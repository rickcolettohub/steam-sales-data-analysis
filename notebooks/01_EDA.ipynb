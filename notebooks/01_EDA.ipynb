{
 "cells": [
  {
   "cell_type": "markdown",
   "id": "1b3ce76d",
   "metadata": {},
   "source": [
    "Verificando dados brutos"
   ]
  },
  {
   "cell_type": "code",
   "execution_count": null,
   "id": "10287e07",
   "metadata": {},
   "outputs": [],
   "source": [
    "import sys\n",
    "import os\n",
    "sys.path.append(os.path.abspath(\"../src\"))\n",
    "import functions as func\n",
    "\n",
    "RAW_DIR = \"../data/raw\"\n",
    "dataframes = func.load_all_csvs(RAW_DIR)\n",
    "\n",
    "for name, df in dataframes.items():\n",
    "    print(f\"\\n--- {name.upper()} ---\")\n",
    "    print(df.info())\n",
    "    print(df.head(3))"
   ]
  }
 ],
 "metadata": {
  "kernelspec": {
   "display_name": "Python 3",
   "language": "python",
   "name": "python3"
  },
  "language_info": {
   "codemirror_mode": {
    "name": "ipython",
    "version": 3
   },
   "file_extension": ".py",
   "mimetype": "text/x-python",
   "name": "python",
   "nbconvert_exporter": "python",
   "pygments_lexer": "ipython3",
   "version": "3.13.7"
  }
 },
 "nbformat": 4,
 "nbformat_minor": 5
}
